{
 "cells": [
  {
   "cell_type": "code",
   "execution_count": 34,
   "metadata": {},
   "outputs": [],
   "source": [
    "import numpy as np\n",
    "import matplotlib.pyplot as plt\n",
    "import nengo\n",
    "import gymnasium as gym"
   ]
  },
  {
   "cell_type": "code",
   "execution_count": 35,
   "metadata": {},
   "outputs": [],
   "source": [
    "def plot_running_avg(totalrewards):\n",
    "    N = len(totalrewards)\n",
    "    running_avg = np.empty(N)\n",
    "    for t in range(N):\n",
    "        running_avg[t] = totalrewards[max(0, t-100):(t+1)].mean()\n",
    "    plt.plot(running_avg)\n",
    "    plt.title(\"Running Average of rewards\")\n",
    "    plt.xlabel(\"Simulation time\")\n",
    "    plt.ylabel(\"Score\")\n",
    "    plt.show()"
   ]
  },
  {
   "cell_type": "code",
   "execution_count": 36,
   "metadata": {},
   "outputs": [],
   "source": [
    "model=nengo.Network()\n",
    "\n",
    "env = gym.make('CartPole-v1').env\n",
    "\n",
    "class EnvironmentInterface(object):\n",
    "    def __init__(self,env,stepSize=100):\n",
    "        self.env = env\n",
    "        self.n_actions = env.action_space.n\n",
    "        self.state_dim = env.observation_space.shape[0]\n",
    "        self.t=0\n",
    "        self.stepsize = stepSize\n",
    "        self.output = np.zeros(self.n_actions)\n",
    "        self.state, _ = env.reset()\n",
    "        self.reward= 0\n",
    "        self.current_action = 0\n",
    "        self.reward_arr = []\n",
    "        self.totalReward = 0\n",
    "\n",
    "    def take_action(self,action):\n",
    "        self.state,self.reward, self.terminated, self.truncated, _= env.step(action)\n",
    "        self.totalReward += self.reward\n",
    "        if self.terminated:\n",
    "            self.reward = -2\n",
    "            self.totalReward += self.reward\n",
    "            self.reward_arr.append(self.totalReward)\n",
    "            self.state, _ = env.reset()\n",
    "            self.totalReward = 0\n",
    "\n",
    "    def get_reward(self,t):\n",
    "        return self.reward\n",
    "    \n",
    "    def sensor(self,t):\n",
    "        return self.state\n",
    "\n",
    "    \n",
    "    def step(self,t,x):\n",
    "        if int(t*1000)%self.stepsize == 0:\n",
    "            self.current_action = np.argmax(x) #np.argmax(self.output)#\n",
    "            self.take_action(self.current_action)\n",
    "    \n",
    "    def calculate_Q(self,t,x):\n",
    "\n",
    "        if int(t*1000) % self.stepsize == 1:\n",
    "            qmax = x[np.argmax(x)]\n",
    "            self.output = x\n",
    "            self.output[self.current_action] = 0.9*qmax + self.reward\n",
    "            \n",
    "        return self.output\n",
    "    \n",
    "        "
   ]
  },
  {
   "cell_type": "code",
   "execution_count": 37,
   "metadata": {},
   "outputs": [],
   "source": [
    "tau = 0.01\n",
    "\n",
    "fast_tau = 0\n",
    "slow_tau = 0.01\n",
    "n_action =2\n",
    "envI=EnvironmentInterface(env)\n",
    "\n",
    "state_dimensions=envI.state_dim\n",
    "n_actions = envI.n_actions\n",
    "\n",
    "\n",
    "from gymnasium import wrappers\n",
    "from datetime import datetime\n",
    "#Video Capturing Mechanism \n",
    "filename=\"test\"\n",
    "is_monitor=False\n",
    "# env.close()\n",
    "if is_monitor:\n",
    "    #filename = os.path.basename(__file__).split('.')[0]\n",
    "    monitor_dir = './' + filename + '_' + str(datetime.now())\n",
    "    env = wrappers.Monitor(env, monitor_dir)\n",
    "    env.reset()\n",
    "\n",
    "\n"
   ]
  },
  {
   "cell_type": "code",
   "execution_count": 38,
   "metadata": {},
   "outputs": [],
   "source": [
    "with model:\n",
    "    sensor = nengo.Node(envI.sensor)\n",
    "    reward = nengo.Node(envI.get_reward)\n",
    "    \n",
    "    sensor_net = nengo.Ensemble(n_neurons=1000,dimensions=envI.state_dim,radius=10)\n",
    "    \n",
    "    nengo.Connection(sensor,sensor_net)\n",
    "    \n",
    "    action_net = nengo.Ensemble(n_neurons=1000,dimensions=envI.n_actions,radius=10)\n",
    "    \n",
    "    learning_conn=nengo.Connection(sensor_net,action_net,function=lambda x:[0,0],learning_rule_type=nengo.PES(1e-3),synapse=tau)\n",
    "   \n",
    "    q_node = nengo.Node(envI.calculate_Q,size_in=2,size_out=2)\n",
    "    \n",
    "    step_node = nengo.Node(envI.step,size_in=2)\n",
    "    \n",
    "    nengo.Connection(action_net,step_node,synapse=fast_tau)\n",
    "    \n",
    "    nengo.Connection(action_net,q_node,synapse=tau)\n",
    "    \n",
    "    \n",
    "    nengo.Connection(q_node,learning_conn.learning_rule,transform =-1,synapse=fast_tau) ##0.9*Q(s',a')+r\n",
    "    \n",
    "    nengo.Connection(action_net,learning_conn.learning_rule,transform =1,synapse=slow_tau)#Q(s,a)\n",
    "\n",
    "\n"
   ]
  },
  {
   "cell_type": "code",
   "execution_count": 39,
   "metadata": {},
   "outputs": [
    {
     "data": {
      "text/html": [
       "\n",
       "            <script type=\"text/javascript\" id=\"d462ab12-b5b7-420a-be99-beeb980247db\">\n",
       "            {\n",
       "                let req = new XMLHttpRequest();\n",
       "                req.addEventListener(\"load\", function() {\n",
       "                    if (this.status != 200 && this.response != 'OK') {\n",
       "                        let p = document.getElementById('d462ab12-b5b7-420a-be99-beeb980247db').parentNode;\n",
       "                        p.innerHTML +=\n",
       "                            'The nengo_gui.jupyter notebook server ' +\n",
       "                            'extension was not loaded. Please activate it ' +\n",
       "                            'with the following command:' +\n",
       "                            '<pre>jupyter serverextension enable ' +\n",
       "                            'nengo_gui.jupyter</pre>';\n",
       "                        p.classList.add('output_stderr');\n",
       "                    }\n",
       "                });\n",
       "                req.open('GET', './nengo/check', true);\n",
       "                req.send();\n",
       "            }\n",
       "            </script>\n",
       "        "
      ],
      "text/plain": [
       "<IPython.core.display.HTML object>"
      ]
     },
     "metadata": {},
     "output_type": "display_data"
    },
    {
     "data": {
      "application/vdom.v1+json": {
       "attributes": {
        "id": "1057993c-2f1a-4f91-8335-cae5164c8385"
       },
       "children": [
        {
         "attributes": {
          "allowfullscreen": "allowfullscreen",
          "class": "cell",
          "frameborder": "0",
          "height": "600",
          "src": "./nengo/63316/?token=6c3d2a4f1d8cae40f9fb622c09872a50c23fcdf91c6ed2eb",
          "style": {
           "border": "1px solid #eee",
           "boxSizing": "border-box"
          },
          "width": "100%"
         },
         "tagName": "iframe"
        }
       ],
       "tagName": "div"
      },
      "text/html": [
       "\n",
       "                <div id=\"f6fff309-3a7b-4a61-947f-4e4b31b6cf77\">\n",
       "                    <iframe\n",
       "                        src=\"./nengo/63316/?token=6c3d2a4f1d8cae40f9fb622c09872a50c23fcdf91c6ed2eb\"\n",
       "                        width=\"100%\"\n",
       "                        height=\"600\"\n",
       "                        frameborder=\"0\"\n",
       "                        class=\"cell\"\n",
       "                        style=\"border: 1px solid #eee; box-sizing: border-box;\"\n",
       "                        allowfullscreen></iframe>\n",
       "                </div>\n",
       "            "
      ]
     },
     "metadata": {},
     "output_type": "display_data"
    }
   ],
   "source": [
    "from nengo_gui.ipython import IPythonViz\n",
    "IPythonViz(model,'model.py.cfg')"
   ]
  },
  {
   "cell_type": "code",
   "execution_count": 40,
   "metadata": {},
   "outputs": [
    {
     "data": {
      "image/png": "[encoded data removed]",
      "text/plain": [
       "<Figure size 640x480 with 1 Axes>"
      ]
     },
     "metadata": {},
     "output_type": "display_data"
    }
   ],
   "source": [
    "plot_running_avg(np.array(envI.reward_arr))\n"
   ]
  },
  {
   "cell_type": "code",
   "execution_count": 33,
   "metadata": {},
   "outputs": [
    {
     "data": {
      "text/plain": [
       "[<matplotlib.lines.Line2D at 0x7fc89385ebb0>]"
      ]
     },
     "execution_count": 33,
     "metadata": {},
     "output_type": "execute_result"
    },
    {
     "data": {
      "image/png": "[encoded data removed]",
      "text/plain": [
       "<Figure size 640x480 with 1 Axes>"
      ]
     },
     "metadata": {},
     "output_type": "display_data"
    }
   ],
   "source": [
    "plt.plot(envI.reward_arr)"
   ]
  }
 ],
 "metadata": {
  "kernelspec": {
   "display_name": "openaigym",
   "language": "python",
   "name": "python3"
  },
  "language_info": {
   "codemirror_mode": {
    "name": "ipython",
    "version": 3
   },
   "file_extension": ".py",
   "mimetype": "text/x-python",
   "name": "python",
   "nbconvert_exporter": "python",
   "pygments_lexer": "ipython3",
   "version": "3.8.16"
  },
  "vscode": {
   "interpreter": {
    "hash": "a04c93aca9e73cd1832559b26d1e35e7aae3746e17ce69ca883c5481ccabd088"
   }
  }
 },
 "nbformat": 4,
 "nbformat_minor": 2
}
