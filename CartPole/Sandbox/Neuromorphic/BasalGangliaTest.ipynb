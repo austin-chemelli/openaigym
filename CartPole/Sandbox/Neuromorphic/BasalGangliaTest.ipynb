{
 "cells": [
  {
   "cell_type": "code",
   "execution_count": 1,
   "id": "44f57471",
   "metadata": {},
   "outputs": [],
   "source": [
    "%matplotlib inline\n",
    "import matplotlib.pyplot as plt\n",
    "import numpy as np\n",
    "\n",
    "import nengo"
   ]
  },
  {
   "cell_type": "code",
   "execution_count": 2,
   "id": "a3131376",
   "metadata": {},
   "outputs": [
    {
     "name": "stderr",
     "output_type": "stream",
     "text": [
      "/Users/reeteshsudhakar/miniconda3/envs/openaigym/lib/python3.8/site-packages/nengo/networks/actionselection.py:186: UserWarning: SciPy is not installed, so BasalGanglia will use the default decoder solver. Installing SciPy may improve BasalGanglia performance.\n",
      "  warnings.warn(\n"
     ]
    }
   ],
   "source": [
    "model = nengo.Network(label=\"Basal Ganglia\")\n",
    "with model:\n",
    "    basal_ganglia = nengo.networks.BasalGanglia(dimensions=3)\n",
    "\n",
    "\n",
    "class ActionIterator:\n",
    "    def __init__(self, dimensions):\n",
    "        self.actions = np.ones(dimensions) * 0.1\n",
    "\n",
    "    def step(self, t):\n",
    "        # one action at time dominates\n",
    "        dominate = int(t % 3)\n",
    "        self.actions[:] = 0.1\n",
    "        self.actions[dominate] = 0.8\n",
    "        return self.actions\n",
    "\n",
    "\n",
    "action_iterator = ActionIterator(dimensions=3)\n",
    "\n",
    "with model:\n",
    "    actions = nengo.Node(action_iterator.step, label=\"actions\")"
   ]
  },
  {
   "cell_type": "code",
   "execution_count": 3,
   "id": "3b819d28",
   "metadata": {},
   "outputs": [],
   "source": [
    "with model:\n",
    "    nengo.Connection(actions, basal_ganglia.input, synapse=None)\n",
    "    thal = nengo.networks.Thalamus(dimensions=3)\n",
    "    nengo.Connection(basal_ganglia.output, thal.input)\n",
    "    selected_action = nengo.Probe(thal.output, synapse=0.01)\n",
    "    input_actions = nengo.Probe(actions, synapse=0.01)"
   ]
  },
  {
   "cell_type": "code",
   "execution_count": 4,
   "id": "d5799b35",
   "metadata": {},
   "outputs": [
    {
     "data": {
      "application/vdom.v1+json": {
       "attributes": {
        "id": "ff28bfc8-b98d-4949-9987-1e27f9ce9d75",
        "style": {
         "border": "1px solid #cfcfcf",
         "borderRadius": "4px",
         "boxSizing": "border-box",
         "position": "relative",
         "textAlign": "center",
         "width": "100%"
        }
       },
       "children": [
        {
         "attributes": {
          "class": "pb-text",
          "style": {
           "position": "absolute",
           "width": "100%"
          }
         },
         "children": [
          "Simulation finished in 0:00:05."
         ],
         "tagName": "div"
        },
        {
         "attributes": {
          "class": "pb-fill",
          "style": {
           "animation": "none",
           "backgroundColor": "#bdd2e6",
           "backgroundImage": "none",
           "transition": "width 0.1s linear",
           "width": "100%"
          }
         },
         "children": [
          {
           "attributes": {
            "scoped": "scoped",
            "type": "text/css"
           },
           "children": [
            "\n                        @keyframes pb-fill-anim {\n                            0% { background-position: 0 0; }\n                            100% { background-position: 100px 0; }\n                        }}"
           ],
           "tagName": "style"
          },
          " "
         ],
         "tagName": "div"
        }
       ],
       "tagName": "div"
      },
      "text/html": [
       "<script>\n",
       "              (function () {\n",
       "                  var root = document.getElementById('4da83494-73c2-476e-a62f-d384bf0936a3');\n",
       "                  var text = root.getElementsByClassName('pb-text')[0];\n",
       "                  var fill = root.getElementsByClassName('pb-fill')[0];\n",
       "\n",
       "                  text.innerHTML = 'Simulation finished in 0:00:05.';\n",
       "                  \n",
       "            if (100.0 > 0.) {\n",
       "                fill.style.transition = 'width 0.1s linear';\n",
       "            } else {\n",
       "                fill.style.transition = 'none';\n",
       "            }\n",
       "\n",
       "            fill.style.width = '100.0%';\n",
       "            fill.style.animation = 'none';\n",
       "            fill.style.backgroundImage = 'none'\n",
       "        \n",
       "                  \n",
       "                fill.style.animation = 'none';\n",
       "                fill.style.backgroundImage = 'none';\n",
       "            \n",
       "              })();\n",
       "        </script>"
      ]
     },
     "metadata": {},
     "output_type": "display_data"
    }
   ],
   "source": [
    "with nengo.Simulator(model) as sim:\n",
    "    # This will take a while\n",
    "    sim.run(15)"
   ]
  },
  {
   "cell_type": "code",
   "execution_count": 5,
   "id": "eea56455",
   "metadata": {},
   "outputs": [
    {
     "data": {
      "image/png": "[encoded data removed]",
      "text/plain": [
       "<Figure size 640x480 with 2 Axes>"
      ]
     },
     "metadata": {},
     "output_type": "display_data"
    }
   ],
   "source": [
    "plt.figure()\n",
    "plt.subplot(2, 1, 1)\n",
    "plt.plot(sim.trange(), sim.data[input_actions].argmax(axis=1))\n",
    "plt.ylim(-0.1, 2.1)\n",
    "plt.xlabel(\"time [s]\")\n",
    "plt.title(\"Index of actual max value\")\n",
    "plt.subplot(2, 1, 2)\n",
    "plt.plot(sim.trange(), sim.data[selected_action].argmax(axis=1))\n",
    "plt.ylim(-0.1, 2.1)\n",
    "plt.xlabel(\"time [s]\")\n",
    "plt.title(\"Basal ganglia selected max value\")\n",
    "plt.tight_layout()"
   ]
  },
  {
   "cell_type": "code",
   "execution_count": 6,
   "id": "b42f6d61",
   "metadata": {},
   "outputs": [
    {
     "data": {
      "text/plain": [
       "array([[0.        , 0.        , 0.        ],\n",
       "       [0.07613007, 0.00951626, 0.00951626],\n",
       "       [0.1450154 , 0.01812692, 0.01812692],\n",
       "       ...,\n",
       "       [0.1       , 0.1       , 0.8       ],\n",
       "       [0.1       , 0.1       , 0.8       ],\n",
       "       [0.1       , 0.1       , 0.8       ]])"
      ]
     },
     "execution_count": 6,
     "metadata": {},
     "output_type": "execute_result"
    }
   ],
   "source": [
    "sim.data[input_actions]"
   ]
  },
  {
   "cell_type": "code",
   "execution_count": null,
   "id": "1f05bf7b",
   "metadata": {},
   "outputs": [],
   "source": []
  }
 ],
 "metadata": {
  "kernelspec": {
   "display_name": "openaigym",
   "language": "python",
   "name": "python3"
  },
  "language_info": {
   "codemirror_mode": {
    "name": "ipython",
    "version": 3
   },
   "file_extension": ".py",
   "mimetype": "text/x-python",
   "name": "python",
   "nbconvert_exporter": "python",
   "pygments_lexer": "ipython3",
   "version": "3.8.16"
  },
  "vscode": {
   "interpreter": {
    "hash": "a04c93aca9e73cd1832559b26d1e35e7aae3746e17ce69ca883c5481ccabd088"
   }
  }
 },
 "nbformat": 4,
 "nbformat_minor": 5
}
